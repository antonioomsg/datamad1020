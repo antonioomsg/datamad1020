{
 "cells": [
  {
   "cell_type": "code",
   "execution_count": null,
   "metadata": {},
   "outputs": [],
   "source": [
    "#challange 1\n",
    "\n",
    "SELECT au.au_id as 'author_ID', au.au_lname as 'last_name', au.au_fname as 'first_name', ti.title, pu.pub_name as 'publisher'\n",
    "\tfrom authors as au\n",
    "\t\tleft join titleauthor as ta\n",
    "\t\t\ton au.au_id=ta.au_id\n",
    "\t\tleft join titles as ti\n",
    "\t\t\ton ti.title_id=ti.title_id\n",
    "\t\tleft join publishers as pu\n",
    "\t\t\ton ti.pub_id=pu.pub_id;\n",
    "\n",
    "\n",
    "# challange 2\n",
    "\n",
    "SELECT `AUTHOR ID`, `LAST NAME`, `FIRST NAME`, `PUBLISHER`, COUNT(*)\n",
    "    FROM\n",
    "    (SELECT au.au_id AS `AUTHOR ID`, au.au_lname AS `LAST NAME`, au.au_fname AS `FIRST NAME`, ti.title AS `TITLE`, pu.pub_name AS `PUBLISHER`\n",
    "    from authors as au\n",
    "    LEFT JOIN titleauthor as ti_au\n",
    "        ON au.au_id=ti_au.au_id\n",
    "    LEFT JOIN titles as ti\n",
    "        ON ti_au.title_id=ti.title_id\n",
    "    LEFT JOIN publishers as pu\n",
    "        ON ti.pub_id=pu.pub_id)AS s\n",
    "    GROUP BY `AUTHOR ID`, `PUBLISHER`;\n",
    "\n",
    "    # challange 3\n",
    "\n",
    "    SELECT au.au_id as 'author_id', au.au_lname as 'last_name', au.au_fname as 'first_name', SUM(sales.qty) 'total'\n",
    "FROM authors as au\n",
    "LEFT JOIN titleauthor as ti_au\n",
    "\tON au.au_id=ti_au.au_id\n",
    "LEFT JOIN sales\n",
    "\tON ti_au.title_id=sales.title_id\n",
    "GROUP BY `author_id`\n",
    "ORDER BY `total` DESC\n",
    "LIMIT 3;\n",
    "\n",
    "#challange 4\n",
    "\n",
    "select au.au_id as 'AUTHOR_ID', au.au_lname as 'LAST_NAME', au.au_fname as 'FIRST_NAME',\n",
    "COUNT(ti.title) as 'TOTAL', \n",
    "coalesce((SUM(sales.qty)),0) as 'SUMA'\n",
    "from authors as au\n",
    "left join titleauthor as ti_au\n",
    "\ton ti_au.au_id=au.au_id\n",
    "left join titles as ti\n",
    "\ton ti_au.title_id = ti.title_id\n",
    "left join sales \n",
    "\ton ti.title_id = sales.title_id \n",
    "    group by AUTHOR_ID order by TOTAL limit 23;"
   ]
  }
 ],
 "metadata": {
  "kernelspec": {
   "display_name": "Python 3",
   "language": "python",
   "name": "python3"
  },
  "language_info": {
   "codemirror_mode": {
    "name": "ipython",
    "version": 3
   },
   "file_extension": ".py",
   "mimetype": "text/x-python",
   "name": "python",
   "nbconvert_exporter": "python",
   "pygments_lexer": "ipython3",
   "version": "3.8.2"
  }
 },
 "nbformat": 4,
 "nbformat_minor": 4
}
